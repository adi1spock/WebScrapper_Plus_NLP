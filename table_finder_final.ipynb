{
 "cells": [
  {
   "cell_type": "code",
   "execution_count": 1,
   "metadata": {},
   "outputs": [],
   "source": [
    "from bs4 import BeautifulSoup\n",
    "PATH=\"C:\\Program Files (x86)\\chromedriver.exe\"\n",
    "from selenium import webdriver\n",
    "driver=webdriver.Chrome(PATH)\n",
    "import re"
   ]
  },
  {
   "cell_type": "code",
   "execution_count": 2,
   "metadata": {},
   "outputs": [],
   "source": [
    "driver.get(\"http://coredogs.com/lesson/web-page-tables.html\")#random site containing table\n",
    "html_source = driver.page_source\n",
    "td=[]\n",
    "field=[]\n",
    "#print(html_source)\n",
    "soup = BeautifulSoup(html_source, 'html.parser')\n",
    "table=soup.find_all(\"table\")\n",
    "for i in range(len(table)):\n",
    "    tr=table[i].find_all(\"tr\")\n",
    "for i in range(len(tr)):\n",
    "    td=td+tr[i].find_all(\"td\")\n",
    "    length=len(tr[i].find_all(\"td\"))\n",
    "for i in td:\n",
    "    i=str(i)\n",
    "    i=i[4:]\n",
    "    i=i[:-5]\n",
    "    field.append(i)\n",
    "    \n",
    "new_field=[]\n",
    "for i in field:\n",
    "    data=\"\"\n",
    "    #print(len(field))\n",
    "    if(len(field)>0):\n",
    "        for i in range(length):\n",
    "            data=data+field[i]+\" \"\n",
    "        new_field.append(data)\n",
    "        field=field[length:]\n",
    "        data=\" \""
   ]
  },
  {
   "cell_type": "code",
   "execution_count": 3,
   "metadata": {},
   "outputs": [
    {
     "name": "stdout",
     "output_type": "stream",
     "text": [
      "['Kieran Large Lab ', 'CC Medium Sheltie ', 'Renata Medium Coonhound/lab mix ']\n"
     ]
    }
   ],
   "source": [
    "print(new_field)"
   ]
  },
  {
   "cell_type": "code",
   "execution_count": null,
   "metadata": {},
   "outputs": [],
   "source": []
  }
 ],
 "metadata": {
  "kernelspec": {
   "display_name": "Python 3",
   "language": "python",
   "name": "python3"
  },
  "language_info": {
   "codemirror_mode": {
    "name": "ipython",
    "version": 3
   },
   "file_extension": ".py",
   "mimetype": "text/x-python",
   "name": "python",
   "nbconvert_exporter": "python",
   "pygments_lexer": "ipython3",
   "version": "3.7.4"
  }
 },
 "nbformat": 4,
 "nbformat_minor": 2
}
