{
 "cells": [
  {
   "cell_type": "code",
   "execution_count": 1,
   "metadata": {},
   "outputs": [],
   "source": [
    "from bs4 import BeautifulSoup\n",
    "PATH=\"C:\\Program Files (x86)\\chromedriver.exe\"\n",
    "from selenium import webdriver\n",
    "driver=webdriver.Chrome(PATH)\n",
    "import re"
   ]
  },
  {
   "cell_type": "code",
   "execution_count": 2,
   "metadata": {},
   "outputs": [],
   "source": [
    "tag=[\"a\",\"img\",\"button\",\"video\",\"link\",\"form\",\"label\",\"input\"]"
   ]
  },
  {
   "cell_type": "code",
   "execution_count": 3,
   "metadata": {},
   "outputs": [
    {
     "name": "stdout",
     "output_type": "stream",
     "text": [
      "105\n"
     ]
    }
   ],
   "source": [
    "driver.get(\"https://kurungkumey.nic.in/directory/\")\n",
    "html_source = driver.page_source\n",
    "\n",
    "#print(html_source)\n",
    "soup = BeautifulSoup(html_source, 'html.parser')\n",
    "print(len(soup.find_all(\"li\")))\n",
    "text=[]\n",
    "\n",
    "\n",
    "txt=soup.find_all(\"li\")\n",
    "for j in range(len(txt)):\n",
    "    count=0\n",
    "    for i in tag:\n",
    "        if bool(txt[j].find_all(i)):\n",
    "            count=1\n",
    "    if count==0:\n",
    "        text.append(txt[j].string)"
   ]
  },
  {
   "cell_type": "code",
   "execution_count": 4,
   "metadata": {},
   "outputs": [
    {
     "name": "stdout",
     "output_type": "stream",
     "text": [
      "Directory\n",
      "None\n",
      "Shri Santosh Kumar Rai Deputy Commissioner, 8794176533(M)\n",
      "Shri Natek Nonang, ADC,Koloriang 8132814901(M)\n",
      "Shri M. Gambo,SP 262211(O),262374(R),9436047561\n",
      "Shri Kento Riba, ADC, Nyapin\n",
      "Smti S. Lowang, ADC, Pania 222242,222243,943638317\n",
      "Shri Toko Audil,ADC,Tali 9436288675\n",
      "Shri Mirpe Tato,SDO, Sangram 9436254952\n",
      "Shri Nighee Bengia, PD,DRDA 262363(O),262370(R),9436224539\n",
      "Dr. Hage Taley, DVO 9436091981\n",
      "Shri Joram Anu,DPO 262209(O),262264(R),9436229988\n",
      "Shri M.D Prasad,DAO 262203(O),262356(R)\n",
      "Shri Tai Janu, DHO i/c 262202(O),9436895619\n",
      "Shri T. Tabing,Dy. Director,UD 262398(O),9436058047\n",
      "Shri Toku Natung,DRRO i/c 9485221855\n",
      "Shri S. Kumar, ADIO,NIC 7677621503\n",
      "Shri Hage Tatan,ADTH 9436047070\n",
      "Shri Ringu Kama,CDPO Klg 262237(O),9436224467\n",
      "Shri M.C. Adak,DFDO 9436630877\n",
      "Shir Tasso Randa,STO 9436051654\n",
      "Shri Narang Gambo,EE(Power) 9436041226\n",
      "Shri Bar Tamo,AE(Power) 9436256549\n",
      "Shri Byabang Tugu, EE(PWD) 9402248775\n",
      "PC,CRPF 262292\n",
      "OC,APP Koloriang 262290\n",
      "OC,SIB 262332\n",
      "Telepone Exchange 262298(O),262299(R)/9436080789(Mr. Patgiri)\n",
      "Shri Er. Likha Kamin,EE,RWD 9402690068\n",
      "Shri N. Pinkap, CO, Damin 9436224444\n",
      "Shri Bengia Kani,HA 262313(O),262219(R),9436252258\n",
      "Shri S. Kumar,PA to DC 262252\n"
     ]
    }
   ],
   "source": [
    "for i in text:\n",
    "    print(i)"
   ]
  },
  {
   "cell_type": "code",
   "execution_count": null,
   "metadata": {},
   "outputs": [],
   "source": []
  }
 ],
 "metadata": {
  "kernelspec": {
   "display_name": "Python 3",
   "language": "python",
   "name": "python3"
  },
  "language_info": {
   "codemirror_mode": {
    "name": "ipython",
    "version": 3
   },
   "file_extension": ".py",
   "mimetype": "text/x-python",
   "name": "python",
   "nbconvert_exporter": "python",
   "pygments_lexer": "ipython3",
   "version": "3.7.4"
  }
 },
 "nbformat": 4,
 "nbformat_minor": 2
}
